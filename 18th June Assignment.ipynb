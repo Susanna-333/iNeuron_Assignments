{
 "cells": [
  {
   "cell_type": "markdown",
   "id": "1058c243-8aeb-4139-b85a-52085bda3258",
   "metadata": {},
   "source": [
    "1. What is the role of the 'else' block in a try-except statement? Provide an example scenario where it would be useful.\n",
    "Ans:\n",
    "The else block in a try-except statement is an optional block of code that is executed if no exceptions are raised in the try block. This means that if no exceptions occur, the code in the else block is executed."
   ]
  },
  {
   "cell_type": "code",
   "execution_count": 1,
   "id": "dd66ad66-906e-40c9-99d9-02cac6332de6",
   "metadata": {},
   "outputs": [
    {
     "name": "stdout",
     "output_type": "stream",
     "text": [
      "Hello\n",
      "Nothing went wrong\n"
     ]
    }
   ],
   "source": [
    "try:\n",
    "  print(\"Hello\")\n",
    "except:\n",
    "  print(\"Something went wrong\")\n",
    "else:\n",
    "  print(\"Nothing went wrong\")"
   ]
  },
  {
   "cell_type": "markdown",
   "id": "8f3edf0f-6401-4cdd-876c-b731b9a25f16",
   "metadata": {},
   "source": [
    "2. Can a try-except block be nested inside another try-except block? Explain with an\n",
    "example.\n",
    "Ans:\n",
    "Yes. \n",
    "We can have nested try-except blocks in Python. In this case, if an exception is raised in the nested try block, the nested except block is used to handle it. In case the nested except is not able to handle it, the outer except blocks are used to handle the exception\n"
   ]
  },
  {
   "cell_type": "code",
   "execution_count": 2,
   "id": "3238f0af-9b6d-4afc-987f-06433ae8567b",
   "metadata": {},
   "outputs": [
    {
     "name": "stdout",
     "output_type": "stream",
     "text": [
      "outer try block\n",
      "Inner try block\n"
     ]
    }
   ],
   "source": [
    "try:\n",
    "   print(\"outer try block\")\n",
    "   try:\n",
    "       print(\"Inner try block\")\n",
    "   except ZeroDivisionError:\n",
    "       print(\"Inner except block\")\n",
    "except:\n",
    "   print(\"outer except block\")"
   ]
  },
  {
   "cell_type": "markdown",
   "id": "0280cfaa-112a-463b-911f-e5f600646ce7",
   "metadata": {},
   "source": [
    "3. How can you create a custom exception class in Python? Provide an example that\n",
    "demonstrates its usage.\n",
    "Ans:\n",
    "In Python, you can create a custom exception by defining a new class that inherits from the built-in `Exception` class or one of its subclasses. To raise the custom exception, you can use the `raise` keyword followed by an instance of your custom exception class.\n"
   ]
  },
  {
   "cell_type": "code",
   "execution_count": 7,
   "id": "b89284ab-3290-4a32-831c-7d496bed0784",
   "metadata": {},
   "outputs": [
    {
     "ename": "CustomError",
     "evalue": "Example of Custom Exceptions in Python",
     "output_type": "error",
     "traceback": [
      "\u001b[0;31m---------------------------------------------------------------------------\u001b[0m",
      "\u001b[0;31mCustomError\u001b[0m                               Traceback (most recent call last)",
      "Cell \u001b[0;32mIn [7], line 3\u001b[0m\n\u001b[1;32m      1\u001b[0m \u001b[38;5;28;01mclass\u001b[39;00m \u001b[38;5;21;01mCustomError\u001b[39;00m(\u001b[38;5;167;01mException\u001b[39;00m):\n\u001b[1;32m      2\u001b[0m     \u001b[38;5;28;01mpass\u001b[39;00m\n\u001b[0;32m----> 3\u001b[0m \u001b[38;5;28;01mraise\u001b[39;00m CustomError(\u001b[38;5;124m\"\u001b[39m\u001b[38;5;124mExample of Custom Exceptions in Python\u001b[39m\u001b[38;5;124m\"\u001b[39m)\n",
      "\u001b[0;31mCustomError\u001b[0m: Example of Custom Exceptions in Python"
     ]
    }
   ],
   "source": [
    "class CustomError(Exception):\n",
    "    pass\n",
    "raise CustomError(\"Example of Custom Exceptions in Python\")"
   ]
  },
  {
   "cell_type": "markdown",
   "id": "326430de-7cd7-408c-9908-8991c1e76ab7",
   "metadata": {},
   "source": [
    "4. What are some common exceptions that are built-in to Python?\n",
    "Ans:\n",
    "In Python, all exceptions must be instances of a class that derives from BaseException . In a try statement with an except clause that mentions a particular class, that clause also handles any exception classes derived from that class (but not exception classes from which it is derived)."
   ]
  },
  {
   "cell_type": "markdown",
   "id": "73f9f72e-2c83-4b0a-8c99-903ee3d50cb3",
   "metadata": {},
   "source": [
    "5. What is logging in Python, and why is it important in software development?\n",
    "Ans:\n",
    "Logging is a way to store information about your script and track events that occur. When writing any complex script in Python, logging is essential for debugging software as you develop it. Without logging, finding the source of a problem in your code may be extremely time consuming.\n",
    "\n"
   ]
  },
  {
   "cell_type": "markdown",
   "id": "74258f84-cae2-4109-a002-48800e77085e",
   "metadata": {},
   "source": [
    "6. Explain the purpose of log levels in Python logging and provide examples of when\n",
    "each log level would be appropriate.\n",
    "Ans:\n",
    "A logging level is a way of classifying the entries in your log file in terms of urgency.\n"
   ]
  },
  {
   "cell_type": "markdown",
   "id": "0fcdd4bc-83b3-46f6-bc9c-5b065bfb8dae",
   "metadata": {},
   "source": [
    "\n",
    "7. What are log formatters in Python logging, and how can you customise the log\n",
    "message format using formatters?\n",
    "Ans:\n",
    "Loggers expose the interface that application code directly uses. Handlers send the log records (created by loggers) to the appropriate destination. Filters provide a finer grained facility for determining which log records to output. Formatters specify the layout of log records in the final output."
   ]
  },
  {
   "cell_type": "markdown",
   "id": "101a059d-2dac-4785-b2d6-0ea1b251687a",
   "metadata": {},
   "source": [
    "8. How can you set up logging to capture log messages from multiple modules or classes in a Python application?\n",
    "Ans:\n",
    "Create and configure the logger. It can have several parameters. But importantly, pass the name of the file in which you want to record the events.\n",
    "Here the format of the logger can also be set. By default, the file works in append mode but we can change that to write mode if required.\n",
    "Also, the level of the logger can be set which acts as the threshold for tracking based on the numeric values assigned to each level. \n",
    "There are several attributes that can be passed as parameters.\n",
    "The list of all those parameters is given in Python Library. The user can choose the required attribute according to the requirement.\n",
    "After that, create an object and use the various methods.\n"
   ]
  },
  {
   "cell_type": "markdown",
   "id": "258bc420-d30b-415d-958a-199d97e84422",
   "metadata": {},
   "source": [
    "9. What is the difference between the logging and print statements in Python? When\n",
    "should you use logging over print statements in a real-world application?\n",
    "Ans:\n",
    "print will just print the text to console. console. log() actually records it and we can use it for many purposes like email it for bug report.\n",
    "If your code is being imported by other python tools or scripts, it's not practical to print something to stdout using print because the user won't know where these messages are coming from."
   ]
  },
  {
   "cell_type": "markdown",
   "id": "08c3f537-3ed8-4673-8156-fb1e03abaa8c",
   "metadata": {},
   "source": [
    "10. Write a Python program that logs a message to a file named \"app.log\" with the\n",
    "following requirements:\n",
    "● The log message should be \"Hello, World!\"\n",
    "● The log level should be set to \"INFO.\"\n",
    "● The log file should append new log entries without overwriting previous ones."
   ]
  },
  {
   "cell_type": "code",
   "execution_count": 9,
   "id": "5fa8572f-a37a-45fa-bba9-1d6549d9a554",
   "metadata": {},
   "outputs": [],
   "source": [
    "import logging\n",
    "logging.basicConfig(\n",
    "    filename='app.log',\n",
    "    level=logging.INFO,\n",
    "    format='%(asctime)s - %(levelname)s - %(message)s',\n",
    "    datefmt='%Y-%m-%d %H:%M:%S'\n",
    ")\n",
    "logging.info(\"Hello, World!\")\n"
   ]
  },
  {
   "cell_type": "markdown",
   "id": "aeafef2b-3925-4b2d-9a57-9f22198b99dd",
   "metadata": {},
   "source": [
    "11. Create a Python program that logs an error message to the console and a file named\n",
    "\"errors.log\" if an exception occurs during the program's execution. The error\n",
    "message should include the exception type and a timestamp."
   ]
  },
  {
   "cell_type": "code",
   "execution_count": 10,
   "id": "808a5457-0ffb-4215-9c69-d8defc9d1e9c",
   "metadata": {},
   "outputs": [],
   "source": [
    "def main():\n",
    "    logging.basicConfig(\n",
    "        level=logging.ERROR,\n",
    "        format='%(asctime)s - %(levelname)s - %(message)s',\n",
    "        datefmt='%Y-%m-%d %H:%M:%S'\n",
    "    )\n",
    "\n",
    "    try:\n",
    "        result = 1 / 0\n",
    "    except Exception as e:\n",
    "        print(\"An exception occurred:\", e)\n",
    "        logging.error(f\"Exception occurred: {type(e)._name_} - {e}\")\n",
    "        logging.error(traceback.format_exc())"
   ]
  },
  {
   "cell_type": "code",
   "execution_count": null,
   "id": "e2fa52da-9438-4c51-8ba1-6640c23a5017",
   "metadata": {},
   "outputs": [],
   "source": []
  }
 ],
 "metadata": {
  "kernelspec": {
   "display_name": "Python 3 (ipykernel)",
   "language": "python",
   "name": "python3"
  },
  "language_info": {
   "codemirror_mode": {
    "name": "ipython",
    "version": 3
   },
   "file_extension": ".py",
   "mimetype": "text/x-python",
   "name": "python",
   "nbconvert_exporter": "python",
   "pygments_lexer": "ipython3",
   "version": "3.10.6"
  }
 },
 "nbformat": 4,
 "nbformat_minor": 5
}
