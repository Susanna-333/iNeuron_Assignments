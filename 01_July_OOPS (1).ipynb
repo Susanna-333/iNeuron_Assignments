{
  "nbformat": 4,
  "nbformat_minor": 0,
  "metadata": {
    "colab": {
      "provenance": []
    },
    "kernelspec": {
      "name": "python3",
      "display_name": "Python 3"
    },
    "language_info": {
      "name": "python"
    }
  },
  "cells": [
    {
      "cell_type": "markdown",
      "source": [
        "1. Object-oriented programming is a programming standard that provides a means of structuring programs so that properties and behaviors are bundled into individual objects\n",
        "*   In Python, object-oriented Programming (OOPs) uses objects and classes in programming.\n",
        "*   It aims to implement real-world entities like inheritance, polymorphisms, encapsulation, etc. in the programming.\n",
        "*   The main concept of OOPs is to bind the data and the functions that work on that together as a single unit so that no other part of the code can access this data.\n",
        "*   Helps in easy maintenance and modification of existing program\n",
        "*   Multiple instances of an object can be made.\n"
      ],
      "metadata": {
        "id": "Zg1kn4NhuUWA"
      }
    },
    {
      "cell_type": "markdown",
      "source": [
        "2. Everything is in Python treated as an object, including variable, function, list, tuple, dictionary, set, etc. Every object belongs to its class i.e object is an instance of a Class. A class is like a blueprint while an instance is a copy of the class with actual values. An object contains stae(attribute) and behavior(method)."
      ],
      "metadata": {
        "id": "eYfKFmsFPfzf"
      }
    },
    {
      "cell_type": "code",
      "source": [
        "class Person:\n",
        "    name = \"John\"\n",
        "    age = 24\n",
        "    def display (self):\n",
        "        print(f\"Name:{self.name}\\n Age: {self.age} \\n \")\n",
        "per = Person()\n",
        "per.display()"
      ],
      "metadata": {
        "colab": {
          "base_uri": "https://localhost:8080/"
        },
        "id": "UABOjdO0QNB4",
        "outputId": "9b139643-8295-4fea-d694-cd5361255016"
      },
      "execution_count": null,
      "outputs": [
        {
          "output_type": "stream",
          "name": "stdout",
          "text": [
            "Name:John\n",
            " Age: 24 \n",
            " \n"
          ]
        }
      ]
    },
    {
      "cell_type": "markdown",
      "source": [
        "3. The class is a user-defined data structure that binds the data members and methods into a single unit. Class is a blueprint or code template for object creation. Using a class, you can create as many objects as you want."
      ],
      "metadata": {
        "id": "n26VMNngPgoG"
      }
    },
    {
      "cell_type": "code",
      "source": [
        "class Demo:\n",
        "  print(\"Inside Class\")\n",
        "demo=Demo()"
      ],
      "metadata": {
        "id": "CidKXJK3Rn_i"
      },
      "execution_count": null,
      "outputs": []
    },
    {
      "cell_type": "markdown",
      "source": [
        "4. Class attributes are defined directly within the class definition and are shared among all instances of the class. They can be accessed using the class name and through an instance of the class.Class attributes are defined outside of any method, including the init method, and are typically assigned a value directly.\n",
        "Methods are functions that are associated with an object and can be called on that object. In OOP, methods allow objects to perform operations and interact with each other. They are defined inside classes and can take parameters, perform calculations, and modify object data."
      ],
      "metadata": {
        "id": "M5Z0oBBfPg48"
      }
    },
    {
      "cell_type": "code",
      "source": [
        "class Person:\n",
        "    name = \"John\"   #class attribute\n",
        "    age = 24\n",
        "    def display (self):\n",
        "        print(f\"Name:{self.name}\\n Age: {self.age} \\n \")\n",
        "per = Person()\n",
        "per.display()\n",
        "Person.name='Roy'\n",
        "per.display()"
      ],
      "metadata": {
        "colab": {
          "base_uri": "https://localhost:8080/"
        },
        "id": "9Ho1wjOHSVYZ",
        "outputId": "2fb0b83a-898e-4d9f-f28d-1c33ef24fed1"
      },
      "execution_count": null,
      "outputs": [
        {
          "output_type": "stream",
          "name": "stdout",
          "text": [
            "Name:John\n",
            " Age: 24 \n",
            " \n",
            "Name:Roy\n",
            " Age: 24 \n",
            " \n"
          ]
        }
      ]
    },
    {
      "cell_type": "markdown",
      "source": [
        "5. Class variables are useful for storing values that are constant across all instances of a class, while instance variables are useful for storing unique values for each object created from the class."
      ],
      "metadata": {
        "id": "AMMcgNhZPhVM"
      }
    },
    {
      "cell_type": "code",
      "source": [
        "class Person:\n",
        "  name='Roy' #class variable\n",
        "  def __init__(self,age):\n",
        "    self.age=age #instance var\n",
        "print(Person.name)\n",
        "p1=Person(23)\n",
        "print(p1.age)"
      ],
      "metadata": {
        "colab": {
          "base_uri": "https://localhost:8080/"
        },
        "id": "Z7a4bn3YtQlW",
        "outputId": "c2d56ea5-526a-4a6b-b764-287c65f6641a"
      },
      "execution_count": null,
      "outputs": [
        {
          "output_type": "stream",
          "name": "stdout",
          "text": [
            "Roy\n",
            "23\n"
          ]
        }
      ]
    },
    {
      "cell_type": "markdown",
      "source": [
        "6. self represents the instance of the class (it represents the object itself). By using the \"self\" keyword we can access the attributes and methods of the class with in the class in python. It binds the attributes with the given arguments."
      ],
      "metadata": {
        "id": "6HJns2m8tYkR"
      }
    },
    {
      "cell_type": "code",
      "source": [
        "class Car:\n",
        "    def __init__(self,color,price):\n",
        "        self.color = color\n",
        "        self.price = price\n",
        "safari = Car('Pearl White',2100000)"
      ],
      "metadata": {
        "id": "8jf6tqNDtgfH"
      },
      "execution_count": null,
      "outputs": []
    },
    {
      "cell_type": "code",
      "source": [
        "#7\n",
        "class Book:\n",
        "  def __init__(self,title,author,isbn,publication_year,available_copies):\n",
        "    self.title=title\n",
        "    self.author=author\n",
        "    self.isbn=isbn\n",
        "    self.publication_year=publication_year\n",
        "    self.available_copies=available_copies\n",
        "  def check_out(self):\n",
        "    if self.available_copies>0:\n",
        "      self.available_copies=self.available_copies-1\n",
        "    else:\n",
        "      print(\"No stock\")\n",
        "  def return_book(self):\n",
        "    self.available_copies=self.available_copies+1\n",
        "  def display_book_info(self):\n",
        "    print(f\"Title: {self.title}\")\n",
        "    print(f\"Author: {self.author}\")\n",
        "    print(f\"ISBN: {self.isbn}\")\n",
        "    print(f\"Publication Year: {self.publication_year}\")\n",
        "    print(f\"Copies Available: {self.available_copies}\")\n",
        "  book1=Book('The Firm','John Grisham',9780739378533,'February 1, 1991',0)\n",
        "  book1.check_out()\n",
        "  book1.display_book_info()"
      ],
      "metadata": {
        "colab": {
          "base_uri": "https://localhost:8080/"
        },
        "id": "c5OMXnSD2kwn",
        "outputId": "bc73d534-481c-41f4-d7a0-e77ab268b0f5"
      },
      "execution_count": null,
      "outputs": [
        {
          "output_type": "stream",
          "name": "stdout",
          "text": [
            "No stock\n",
            "Title: The Firm\n",
            "Author: John Grisham\n",
            "ISBN: 9780739378533\n",
            "Publication Year: February 1, 1991\n",
            "Copies Available: 0\n"
          ]
        }
      ]
    },
    {
      "cell_type": "code",
      "source": [
        "#8\n",
        "class Ticket:\n",
        "  def __init__(self,ticket_id,event_name,event_date,venue,seat_number,price,is_reserved):\n",
        "    self.ticket_id=ticket_id\n",
        "    self.event_name=event_name\n",
        "    self.event_date=event_date\n",
        "    self.venue=venue\n",
        "    self.seat_number=seat_number\n",
        "    self.price=price\n",
        "    self.is_reserved=is_reserved\n",
        "  def reserve_ticket(self):\n",
        "    if self.is_reserved == 'Reserved':\n",
        "      pass\n",
        "    else:\n",
        "      self.is_reserved='Reserved'\n",
        "  def cancel_reservation(self):\n",
        "    if self.is_reserved == 'Reserved':\n",
        "      self.is_reserved='Not Reserved'\n",
        "  def display_ticket_info(self):\n",
        "    print(f\"Ticket ID: {self.ticket_id}\")\n",
        "    print(f\"Event Name: {self.event_name}\")\n",
        "    print(f\"Event Date: {self.event_date}\")\n",
        "    print(f\"Venue: {self.venue}\")\n",
        "    print(f\"Seat Number: {self.seat_number}\")\n",
        "    print(f\"Price: {self.price}\")\n",
        "    print(f\"Reservation Status: {self.is_reserved}\")\n",
        "\n",
        "ticket1=Ticket('PY011','Beach Party Blowout','29 July 2023','Goa','W11',7000,'Reserved')\n",
        "ticket1.cancel_reservation()\n",
        "ticket1.display_ticket_info()\n"
      ],
      "metadata": {
        "colab": {
          "base_uri": "https://localhost:8080/"
        },
        "id": "uchG6A212n5H",
        "outputId": "37a41c64-da99-4e16-ae0a-fe1e72d0daf5"
      },
      "execution_count": null,
      "outputs": [
        {
          "output_type": "stream",
          "name": "stdout",
          "text": [
            "Ticket ID: PY011\n",
            "Event Name: Beach Party Blowout\n",
            "Event Date: 29 July 2023\n",
            "Venue: Goa\n",
            "Seat Number: W11\n",
            "Price: 7000\n",
            "Reservation Status: Not Reserved\n"
          ]
        }
      ]
    },
    {
      "cell_type": "code",
      "source": [
        "#9\n",
        "class ShoppingCart:\n",
        "  def __init__(self):\n",
        "    self.items=[]\n",
        "  def add_item(self, item):\n",
        "    (self.items).append(item)\n",
        "  def remove_item(self, item):\n",
        "    if item in self.items:\n",
        "      self.items.remove(item)\n",
        "  def view_cart(self):\n",
        "    print(\"Items available in the shopping Cart:\")\n",
        "    for item in self.items:\n",
        "      print(item,end=\"\\n\")\n",
        "  def clear_cart(self):\n",
        "    self.items=[]\n",
        "sc=ShoppingCart()\n",
        "sc.add_item('Watch')\n",
        "sc.add_item('Shoes')\n",
        "sc.add_item('Ring')\n",
        "sc.remove_item('Shoes')\n",
        "sc.view_cart()\n"
      ],
      "metadata": {
        "colab": {
          "base_uri": "https://localhost:8080/"
        },
        "id": "NYWwuJL1CzNO",
        "outputId": "c1514775-2969-439b-accc-4bec155044c5"
      },
      "execution_count": null,
      "outputs": [
        {
          "output_type": "stream",
          "name": "stdout",
          "text": [
            "Items available in the shopping Cart:\n",
            "Watch\n",
            "Ring\n"
          ]
        }
      ]
    },
    {
      "cell_type": "code",
      "source": [
        "#10\n",
        "class Student:\n",
        "  def __init__(self,name,age,grade,student_id):\n",
        "    self.name=name\n",
        "    self.age=age\n",
        "    self.grade=grade\n",
        "    self.student_id=student_id\n",
        "    self.attendance={'1July':'Present','2July':'Present','3July':'Present','4July':'Absent','5July':'Absent','6July':''}\n",
        "  def update_attendance(self, date, status):\n",
        "    self.attendance[date]=status\n",
        "  def get_attendance(self):\n",
        "    print(self.attendance)\n",
        "  def get_average_attendance(self):\n",
        "    present=0\n",
        "    for values in self.attendance.values():\n",
        "      if values=='Present':\n",
        "        present=present+1\n",
        "    percent=(present/len(self.attendance))*100\n",
        "    print(f\"Average Attendance Percentage:{percent}\")\n",
        "student1=Student('Roy',23,'A+','23CS27')\n",
        "student1.update_attendance('6July','Absent')\n",
        "student1.get_attendance()\n",
        "student1.get_average_attendance()\n"
      ],
      "metadata": {
        "colab": {
          "base_uri": "https://localhost:8080/"
        },
        "id": "g8D2-gjCGrB0",
        "outputId": "64253559-eb10-4b3f-b3e5-c922e6249f2b"
      },
      "execution_count": null,
      "outputs": [
        {
          "output_type": "stream",
          "name": "stdout",
          "text": [
            "{'1July': 'Present', '2July': 'Present', '3July': 'Present', '4July': 'Absent', '5July': 'Absent', '6July': 'Absent'}\n",
            "Average Attendance Percentage:50.0\n"
          ]
        }
      ]
    }
  ]
}