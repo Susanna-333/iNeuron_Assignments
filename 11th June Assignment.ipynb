{
 "cells": [
  {
   "cell_type": "markdown",
   "id": "7f5529a3-b905-45f6-96c5-f71bc4de5257",
   "metadata": {},
   "source": [
    "1.\tWhat is a lambda function in Python, and how does it differ from a regular function?\n",
    "ANS: Lambda function is an anonymous function that takes many arguments and returns one expression. It differs from normal functions because there is no specific function name and it does not involve parentheses.\n"
   ]
  },
  {
   "cell_type": "markdown",
   "id": "0a8b374c-60bc-446a-8d1a-5a1ee76f2dee",
   "metadata": {},
   "source": [
    "2.\tCan a lambda function in Python have multiple arguments? If yes, how can you define and use them?\n",
    "ANS: Yes, Lambda function can have multiple arguments. They can be defined as single line functions and used to return a single result.\n"
   ]
  },
  {
   "cell_type": "markdown",
   "id": "ca29c3bb-cd2d-4093-b43a-e1052b25e202",
   "metadata": {},
   "source": [
    "3.\tHow are lambda functions typically used in Python? Provide an example use case. ANS: Syntax  lambda arguments : expression\n",
    "Eg. lambda x : x+5\n"
   ]
  },
  {
   "cell_type": "raw",
   "id": "bc1bbe5a-6031-44c0-9242-b0018780f5fc",
   "metadata": {},
   "source": [
    "4.\tWhat are the advantages and limitations of lambda functions compared to regular functions in Python?\n",
    "ANS: Advantages:\n",
    "•\tConcise code\n",
    "•\tNo function name\n",
    "•\tSingle line expression \n",
    "Disadvantages:\n",
    "•\tCan contain only one line\n",
    "•\tComplex problem cannot be handled\n",
    "•\tDifficult to understand\n"
   ]
  },
  {
   "cell_type": "markdown",
   "id": "ea96ed24-9d08-4956-a8f7-139f8d253547",
   "metadata": {},
   "source": [
    "5.\tAre lambda functions in Python able to access variables defined outside of their own scope? Explain with an example.\n",
    "ANS: No, lambda functions cannot access variables defined outside the scope\n"
   ]
  },
  {
   "cell_type": "markdown",
   "id": "6cfd7e09-fb52-4aaf-9fc8-55bd45b5f706",
   "metadata": {},
   "source": [
    "6.\tWrite a lambda function to calculate the square of a given number."
   ]
  },
  {
   "cell_type": "code",
   "execution_count": null,
   "id": "8cfb1a55-e6bf-48dd-ab9a-0af5e4fd2328",
   "metadata": {},
   "outputs": [],
   "source": [
    "num = input(int())\n",
    "square = lambda num : num**2 print (square)\n"
   ]
  },
  {
   "cell_type": "markdown",
   "id": "69c8c932-57ee-4937-a5fa-562de62ac4cc",
   "metadata": {},
   "source": [
    "7.\tCreate a lambda function to find the maximum value in a list of integers. "
   ]
  },
  {
   "cell_type": "code",
   "execution_count": null,
   "id": "2b6db52f-62b3-447b-a409-b61de61994ee",
   "metadata": {},
   "outputs": [],
   "source": [
    "list = [20, 10, 20, 4, 100]\n",
    "print(max(list, key=lambda value: int(value)) )\n"
   ]
  },
  {
   "cell_type": "markdown",
   "id": "2737e2db-c76d-4dc6-82bb-84b21be27743",
   "metadata": {},
   "source": [
    "8. Implement a lambda function to filter out all the even numbers from a list of integers. "
   ]
  },
  {
   "cell_type": "code",
   "execution_count": null,
   "id": "b00dea1c-eaaa-470a-a13d-b83d6b94fbcc",
   "metadata": {},
   "outputs": [],
   "source": [
    "nums = [1, 2, 3, 4, 5, 6, 7, 8, 9, 10]\n",
    "even_nums = list(filter(lambda x: x%2 == 0, nums)) print(even_nums)\n"
   ]
  },
  {
   "cell_type": "markdown",
   "id": "09f7b7a5-e5f7-43db-927a-b94bd5f62767",
   "metadata": {},
   "source": [
    "9.\tWrite a lambda function to sort a list of strings in ascending order based on the length of each string."
   ]
  },
  {
   "cell_type": "code",
   "execution_count": 5,
   "id": "f88df7fe-0238-4905-9580-7fa6d61d2874",
   "metadata": {},
   "outputs": [
    {
     "name": "stdout",
     "output_type": "stream",
     "text": [
      "['Sandy', 'Janani', 'Sruthi', 'Susanna', 'Hariharan', 'Gokul Akash', 'JothiKrishna']\n"
     ]
    }
   ],
   "source": [
    "myList = [\"JothiKrishna\", \"Gokul Akash\", \"Janani\", \"Sruthi\", \"Hariharan\", \"Susanna\", \"Sandy\"]\n",
    "sortedList = sorted(myList, key=lambda x: len(x)) \n",
    "print(sortedList)\n"
   ]
  },
  {
   "cell_type": "markdown",
   "id": "be6131e3-1723-4763-9fb8-cbd53591748f",
   "metadata": {},
   "source": [
    "10.\tCreate a 10.Create a lambda function that takes two lists as input and returns a new list containing the common elements between the two lists."
   ]
  },
  {
   "cell_type": "code",
   "execution_count": 3,
   "id": "0e150518-f868-4fcd-9661-4d743a2961ec",
   "metadata": {},
   "outputs": [
    {
     "name": "stdout",
     "output_type": "stream",
     "text": [
      "\n",
      "Intersection of the said list:  [1, 2, 8, 9]\n"
     ]
    }
   ],
   "source": [
    "list1 = [1, 2, 3, 5, 7, 8, 9, 10]\n",
    "list2 = [1, 2, 4, 8, 9]\n",
    "result = list(filter(lambda x: x in list1, list2))\n",
    "print (\"\\nIntersection of the said list: \",result)\n"
   ]
  },
  {
   "cell_type": "markdown",
   "id": "e532def1-5cc2-4c9d-b67d-457f13d81bc3",
   "metadata": {},
   "source": [
    "11.\tWrite a recursive function to calculate the factorial of a given positive integer. "
   ]
  },
  {
   "cell_type": "raw",
   "id": "0d8683bc-8c46-4486-ad70-3defe0082457",
   "metadata": {},
   "source": [
    "def factorial(n): \n",
    "    if n == 0:\n",
    "        return 1\n",
    "        return n * factorial(n-1) \n",
    "num = intput(int());\n",
    "print(\"Factorial of\", num, \"is\", factorial(num))\n"
   ]
  },
  {
   "cell_type": "markdown",
   "id": "e53860fa-1fcb-492d-a54e-56b6adedf40d",
   "metadata": {},
   "source": [
    "12.\tImplement a recursive function to compute the nth Fibonacci number. "
   ]
  },
  {
   "cell_type": "code",
   "execution_count": null,
   "id": "df7bad8d-8d8a-4606-8e9c-ce3a4cef83f2",
   "metadata": {},
   "outputs": [],
   "source": [
    "def Fibonacci(n): \n",
    "    if n<= 0:\n",
    "        print(\"Incorrect input\")\n",
    "    elif n == 1:\n",
    "        return 0 \n",
    "    elif n == 2:\n",
    "        return 1 \n",
    "    else:\n",
    "        return Fibonacci(n-1)+Fibonacci(n-2) \n",
    "num = input(int())\n",
    "print(Fibonacci(num))\n"
   ]
  },
  {
   "cell_type": "markdown",
   "id": "3bbb9923-0599-4ca2-b5d9-18b00ef9e989",
   "metadata": {},
   "source": [
    "13.\tCreate a recursive function to find the sum of all the elements in a given list. "
   ]
  },
  {
   "cell_type": "code",
   "execution_count": null,
   "id": "9e2995d8-9cec-4e6a-9a5b-9ce2f3e6c607",
   "metadata": {},
   "outputs": [],
   "source": [
    "list1 = [1,2,3,4,5]\n",
    "def sumOfList(list, size): \n",
    "    if (size == 0):\n",
    "        return 0\n",
    "    else:\n",
    "        return list[size - 1] + sumOfList(list, size - 1) result = sumOfList(list1, len(list1))\n",
    "print(\"Sum of all elements in given list: \", result)\n"
   ]
  },
  {
   "cell_type": "markdown",
   "id": "2e9285fc-6c2b-4911-b2ee-d0d6a286d106",
   "metadata": {},
   "source": [
    "14.\tWrite a recursive function to determine whether a given string is a palindrome. "
   ]
  },
  {
   "cell_type": "code",
   "execution_count": null,
   "id": "a54957ff-644e-475a-a3f7-d641da79d7b2",
   "metadata": {},
   "outputs": [],
   "source": [
    "def isPalindrome(str, i):\n",
    "    if(i > len(str)/2):\n",
    "        return True ans = False\n",
    "    if((str[i] is str[len(str) - i - 1]) and isPalindrome(str, i + 1)): ans = True\n",
    "        return ans\n",
    "\n",
    "\n",
    "intstr = input(str())\n",
    "    if (isPalindrome(intstr, 0)): \n",
    "        print(\"Yes\")\n",
    "    else:\n",
    "        print(\"No\")\n"
   ]
  },
  {
   "cell_type": "markdown",
   "id": "f92fc956-f400-4a90-b39f-0019fa727eb8",
   "metadata": {},
   "source": [
    "15.\tImplement a recursive function to find the greatest common divisor (GCD) of two positive "
   ]
  },
  {
   "cell_type": "code",
   "execution_count": null,
   "id": "260a69bd-46b5-4a50-bcb2-fd9ea4300f0d",
   "metadata": {},
   "outputs": [],
   "source": [
    "def hcf(a, b):\n",
    "    if (b == 0): \n",
    "        return a\n",
    "    else:\n",
    "        return hcf (b, a % b)\n",
    "\n",
    "\n",
    "a = input(int())\n",
    "b = input(int())\n",
    "print(\"The gcd of a and b is : \", end=\"\") print(hcf( a, b))\n"
   ]
  },
  {
   "cell_type": "code",
   "execution_count": null,
   "id": "e11346c7-36b8-41e4-a231-b7182f27fccd",
   "metadata": {},
   "outputs": [],
   "source": []
  }
 ],
 "metadata": {
  "kernelspec": {
   "display_name": "Python 3 (ipykernel)",
   "language": "python",
   "name": "python3"
  },
  "language_info": {
   "codemirror_mode": {
    "name": "ipython",
    "version": 3
   },
   "file_extension": ".py",
   "mimetype": "text/x-python",
   "name": "python",
   "nbconvert_exporter": "python",
   "pygments_lexer": "ipython3",
   "version": "3.10.6"
  }
 },
 "nbformat": 4,
 "nbformat_minor": 5
}
