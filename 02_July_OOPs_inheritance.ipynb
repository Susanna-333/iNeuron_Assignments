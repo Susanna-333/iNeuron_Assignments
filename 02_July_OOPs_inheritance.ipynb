{
  "nbformat": 4,
  "nbformat_minor": 0,
  "metadata": {
    "colab": {
      "provenance": []
    },
    "kernelspec": {
      "name": "python3",
      "display_name": "Python 3"
    },
    "language_info": {
      "name": "python"
    }
  },
  "cells": [
    {
      "cell_type": "markdown",
      "source": [
        "1) Inheritance in OOPS:\n",
        "\n",
        "*   Inheritance is the essential feature of OOPS concept which helps in code reusablity.\n",
        "*   Inheritance allows you to define a new class based on an existing class, which serves as the blueprint or prototype. The new class (subclass) inherits the properties (attributes) and behaviors (methods) of the existing class (superclass), and it can also add its specific properties and behaviors.\n",
        "*   Inheritance promotes code reusability by allowing subclasses to inherit the features of their superclass.\n",
        "*   Inheritance allows you to extend the functionality of a class by adding new properties and methods in the subclass."
      ],
      "metadata": {
        "id": "Xr_e9Zy-bJXs"
      }
    },
    {
      "cell_type": "markdown",
      "source": [
        "2) i) Single Inheritance:\n",
        "Single inheritance is where a class(child) will only hold single parent class and no other inheritance.\n",
        "\n",
        "ii) Multiple Inheritance:\n",
        "Multiple inheritance is where a class can hold the ablity of having multiple parent classes. Python allows us to do this, as it does Method Resolution Order (MRO) and thereby the diamond problem gets solved."
      ],
      "metadata": {
        "id": "i-ySzNbPbZae"
      }
    },
    {
      "cell_type": "markdown",
      "source": [
        "3) Base Class:\n",
        "Base Class is also known as parent class and which holds all the basic or superior properties and methods that its child classes should have. For example, Vehicle is the base class of car, bike etc.\n",
        "\n",
        "Derived Class:\n",
        "Derived class commonly known as child class and as the name suggests, it inherits the properties and methods of its parent class. For example, Lion is a child class of Animale(Base class)."
      ],
      "metadata": {
        "id": "X_5bkttNzoiR"
      }
    },
    {
      "cell_type": "markdown",
      "source": [
        " 4) The \"protected\" access modifier in Python is achieved through a naming convention using a single leading underscore (_). It indicates that the attribute or method is intended for internal use within the class and its subclasses, but Python does not enforce strict access control like some other languages.\n",
        "\n",
        " The \"private\" access modifier is achieved by using a double underscore (__) before the attribute or method name and enforces name mangling, making it harder to access private attributes and methods directly from outside the class.\n",
        "\n",
        " The \"public\" is the default access modifier and we won't be needing anything to mention it. Thereby, public access modifier notation allows the access of the property or method from anywhere in the code."
      ],
      "metadata": {
        "id": "fbBQISGK2gWT"
      }
    },
    {
      "cell_type": "markdown",
      "source": [
        "5) The 'super' keyword denotes the access of the parent class method. This can help you in method overriding by providing additional extensiblity or modify parent class behavior without completely replacing it. For example refer to the below code."
      ],
      "metadata": {
        "id": "eyu21o8N3GtX"
      }
    },
    {
      "cell_type": "code",
      "source": [
        "class Animal:\n",
        "  def getRespiratoryOrgan(self):\n",
        "    print(\"Generic Lungs\")\n",
        "\n",
        "class Dog(Animal):\n",
        "  def getRespiratoryOrgan(self):\n",
        "    super().getRespiratoryOrgan()\n",
        "    print(\"call from child class\")\n",
        "\n",
        "dog1 = Dog()\n",
        "dog1.getRespiratoryOrgan()"
      ],
      "metadata": {
        "colab": {
          "base_uri": "https://localhost:8080/"
        },
        "id": "l8nYX2Hr3nyW",
        "outputId": "6fedce6c-3c59-4565-d402-3fe4727b1cd9"
      },
      "execution_count": null,
      "outputs": [
        {
          "output_type": "stream",
          "name": "stdout",
          "text": [
            "Generic Lungs\n",
            "call from child class\n"
          ]
        }
      ]
    },
    {
      "cell_type": "code",
      "source": [
        "#6)\n",
        "class Vehicle:\n",
        "  def __init__(self,make,model,year):\n",
        "    self.make = make\n",
        "    self.model = model\n",
        "    self.year = year\n",
        "\n",
        "  def getNumberOfWheels(self):\n",
        "    return \"Generic number from 2-8\"\n",
        "\n",
        "class Car(Vehicle):\n",
        "  def __init__(self,make,model,year,fuel_type):\n",
        "    super().__init__(make,model,year)\n",
        "    self.fuel_type = fuel_type\n",
        "\n",
        "  def getNumberOfWheels(self):\n",
        "    return 4"
      ],
      "metadata": {
        "id": "caUJxvoG3zxb"
      },
      "execution_count": null,
      "outputs": []
    },
    {
      "cell_type": "code",
      "source": [
        "#7)\n",
        "class Employee:\n",
        "  def __init__(self,name,salary):\n",
        "    self.name = name\n",
        "    self.salary = salary\n",
        "\n",
        "class Manager(Employee):\n",
        "  def __init__(self,name,salary,department):\n",
        "    super().__init__(name,salary)\n",
        "    self.department = department\n",
        "\n",
        "class Developer(Employee):\n",
        "  def __init__(self,name,salary,programming_language):\n",
        "    super().__init__(name,salary)\n",
        "    self.programmingLanguage = programming_language\n"
      ],
      "metadata": {
        "id": "kjg6TAdi7RET"
      },
      "execution_count": null,
      "outputs": []
    },
    {
      "cell_type": "code",
      "source": [
        "#8)\n",
        "class Shape:\n",
        "  def __init__(self,color,border_width):\n",
        "    self.color = color\n",
        "    self.border_width = border_width\n",
        "\n",
        "class Rectange(Shape):\n",
        "  def __init__(self,color,border_width,length,width):\n",
        "    super().__init__(color,border_width)\n",
        "    self.length = length\n",
        "    self.width = width\n",
        "\n",
        "class Circle(Shape):\n",
        "  def __init__(self,color,border_width,radius):\n",
        "    super().__init__(color,border_width)\n",
        "    self.radius = radius\n"
      ],
      "metadata": {
        "id": "ysQ1OFH98QmW"
      },
      "execution_count": null,
      "outputs": []
    },
    {
      "cell_type": "code",
      "source": [
        "#9)\n",
        "class Device:\n",
        "  def __init__(self,brand,model):\n",
        "    self.brand = brand\n",
        "    self.model = model\n",
        "\n",
        "class Phone(Device):\n",
        "  def __init__(self,brand,model,screen_size):\n",
        "    super().__init__(brand,model)\n",
        "    self.screen_size = screen_size\n",
        "\n",
        "class Tablet(Device):\n",
        "  def __init__(self,brand,model,battery_capacity):\n",
        "    super().__init__(brand,model)\n",
        "    self.battery_capacity = battery_capacity"
      ],
      "metadata": {
        "id": "EA7JyLOV9GJU"
      },
      "execution_count": null,
      "outputs": []
    },
    {
      "cell_type": "code",
      "source": [
        "#10)\n",
        "class BankAccount:\n",
        "  def __init__(self,account_number,balance):\n",
        "    self.account_number = account_number\n",
        "    self.balance = balance\n",
        "\n",
        "class SavingsAccount(BankAccount):\n",
        "  def __init__(self,account_number,balance):\n",
        "    super().__init__(account_number,balance)\n",
        "\n",
        "  def calculate_interest():\n",
        "    pass\n",
        "\n",
        "class CheckingAccount(BankAccount):\n",
        "  def __init__(self,account_number,balance):\n",
        "    super().__init__(account_number,balance)\n",
        "\n",
        "  def deduct_fees():\n",
        "    pass"
      ],
      "metadata": {
        "id": "F-BZ-u8w9DYC"
      },
      "execution_count": null,
      "outputs": []
    }
  ]
}