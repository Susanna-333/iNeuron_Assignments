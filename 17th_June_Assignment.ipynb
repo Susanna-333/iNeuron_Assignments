{
  "nbformat": 4,
  "nbformat_minor": 0,
  "metadata": {
    "colab": {
      "provenance": []
    },
    "kernelspec": {
      "name": "python3",
      "display_name": "Python 3"
    },
    "language_info": {
      "name": "python"
    }
  },
  "cells": [
    {
      "cell_type": "markdown",
      "source": [
        "1. What is the role of try and exception block?\n",
        "\n",
        "* Python uses the try and except block to catch and manage exceptions.\n",
        "* Python executes code following the try statement as a “normal” part of the program.\n",
        "* The code that follows the except statement is the program's response to any exceptions in the preceding try clause.\n",
        "* The try block lets you test a block of code for errors.\n",
        "* The except block lets you handle the error.\n",
        "\n",
        "2. What is the syntax for a basic try-except block?\n",
        "\n",
        "\n"
      ],
      "metadata": {
        "id": "fzIAkL3q26Le"
      }
    },
    {
      "cell_type": "code",
      "source": [
        "#The try block will generate an error, because x is not defined:\n",
        "\n",
        "try:\n",
        "  print(x)\n",
        "except:\n",
        "  print('An exception occur')"
      ],
      "metadata": {
        "id": "X-LHnR6f8Bbq"
      },
      "execution_count": null,
      "outputs": []
    },
    {
      "cell_type": "markdown",
      "source": [
        "3. What happens if an exception occurs inside a try block and there is no matching\n",
        "except block?\n",
        "\n",
        "    When an exception occurs inside a try block in a programming language that supports exception handling, the code inside the try block stops executing, and the program looks for a matching except block to handle the raised exception. If there is no appropriate except block to handle the specific exception that occurred, the program will terminate, and an error message will be displayed with information about the uncaught exception."
      ],
      "metadata": {
        "id": "hWkE-WWx8l5Y"
      }
    },
    {
      "cell_type": "code",
      "source": [
        "def divide_numbers(a, b):\n",
        "    try:\n",
        "        result = a / b\n",
        "        print(\"The result of the division is:\", result)\n",
        "    except ValueError:\n",
        "        print(\"A ValueError occurred!\")\n",
        "    except ZeroDivisionError:\n",
        "        print(\"Cannot divide by zero!\")\n",
        "    # No except block for other types of exceptions\n",
        "\n",
        "# Example 1: Division with valid values\n",
        "divide_numbers(10, 2)\n",
        "\n",
        "# Example 2: Division by zero\n",
        "divide_numbers(5, 0)\n",
        "\n",
        "# Example 3: Division with invalid values\n",
        "divide_numbers(10, '2')\n"
      ],
      "metadata": {
        "id": "7_fh4zfeCACT"
      },
      "execution_count": null,
      "outputs": []
    },
    {
      "cell_type": "markdown",
      "source": [
        "4. What is the difference between using a bare except block and specifying a specific\n",
        "exception type?\n",
        "\n",
        "Bare except block:\n",
        "\n",
        "A bare except block, also known as a generic or catch-all except block, catches any exception that occurs inside the corresponding try block, regardless of the type of the exception. It does not specify a particular exception type, so it will catch all exceptions, including built-in exceptions like ValueError, TypeError, ZeroDivisionError, as well as custom exceptions and even system-level exceptions."
      ],
      "metadata": {
        "id": "2c7U_bxoCVjO"
      }
    },
    {
      "cell_type": "code",
      "source": [
        "try:\n",
        "    # Some code that may raise an exception\n",
        "    result = 10 / 0\n",
        "except:\n",
        "    print(\"An exception occurred!\")\n"
      ],
      "metadata": {
        "id": "LAHBFGwtDAmK"
      },
      "execution_count": null,
      "outputs": []
    },
    {
      "cell_type": "markdown",
      "source": [
        "Specifying a specific exception type:\n",
        "\n",
        "In contrast, specifying a specific exception type in the except block allows you to handle only the specified type of exception and let other exceptions propagate up the call stack to be handled elsewhere. By handling specific exceptions, you can provide more targeted error handling and take appropriate actions based on the type of exception that occurred."
      ],
      "metadata": {
        "id": "QOJDV4qJDMN9"
      }
    },
    {
      "cell_type": "code",
      "source": [
        "try:\n",
        "    # Some code that may raise an exception\n",
        "    result = 10 / 0\n",
        "except ZeroDivisionError:\n",
        "    print(\"Cannot divide by zero!\")\n"
      ],
      "metadata": {
        "id": "-CF79ogNDUOh"
      },
      "execution_count": null,
      "outputs": []
    },
    {
      "cell_type": "markdown",
      "source": [
        "5. Can you have nested try-except blocks in Python? If yes, then give an example.\n",
        "\n",
        "Yes, you can have nested try-except blocks in Python. This means you can place one try-except block inside another. This allows you to handle exceptions at different levels of your code and provide more fine-grained error handling."
      ],
      "metadata": {
        "id": "KgP1lGnNDdt-"
      }
    },
    {
      "cell_type": "code",
      "source": [
        "def divide_numbers(a, b):\n",
        "    try:\n",
        "        result = a / b\n",
        "        print(\"The result of the division is:\", result)\n",
        "    except ZeroDivisionError:\n",
        "        print(\"Cannot divide by zero!\")\n",
        "    except TypeError:\n",
        "        print(\"Invalid operand types for division.\")\n",
        "    except Exception as e:\n",
        "        print(\"An unexpected error occurred:\", e)\n",
        "\n",
        "def process_data(data):\n",
        "    try:\n",
        "        # Assume some processing of the data here\n",
        "        result = 100 / len(data)\n",
        "        print(\"Processed result:\", result)\n",
        "    except ZeroDivisionError:\n",
        "        print(\"Data is empty, cannot process.\")\n",
        "    except Exception as e:\n",
        "        print(\"An unexpected error occurred during data processing:\", e)\n",
        "\n",
        "try:\n",
        "    data = [1, 2, 3]\n",
        "    divide_numbers(10, 2)\n",
        "    divide_numbers(5, 0)\n",
        "    process_data(data)\n",
        "    process_data([])\n",
        "except Exception as e:\n",
        "    print(\"An error occurred in the main code:\", e)\n"
      ],
      "metadata": {
        "id": "9XvDMFg-DtW0"
      },
      "execution_count": null,
      "outputs": []
    },
    {
      "cell_type": "markdown",
      "source": [
        "6. Can we use multiple exception blocks, if yes then give an example.\n",
        "\n",
        "Yes, in Python, you can use multiple exception blocks to handle different types of exceptions that may occur in your code. This allows you to handle different error scenarios separately and provide appropriate responses or recovery actions."
      ],
      "metadata": {
        "id": "f0fhzNcSD6N_"
      }
    },
    {
      "cell_type": "code",
      "source": [
        "def divide_numbers(a, b):\n",
        "    try:\n",
        "        result = a / b\n",
        "        return result\n",
        "    except ZeroDivisionError:\n",
        "        print(\"Error: Cannot divide by zero!\")\n",
        "    except TypeError:\n",
        "        print(\"Error: Invalid data types for division!\")\n",
        "    except Exception as e:\n",
        "        print(\"An unexpected error occurred:\", e)\n",
        "\n",
        "# Example usage\n",
        "num1 = 10\n",
        "num2 = 0\n",
        "result1 = divide_numbers(num1, num2)\n",
        "\n",
        "num3 = 10\n",
        "num4 = \"2\"\n",
        "result2 = divide_numbers(num3, num4)\n",
        "\n",
        "num5 = 10\n",
        "num6 = 2\n",
        "result3 = divide_numbers(num5, num6)\n"
      ],
      "metadata": {
        "id": "yYqkN1YoEc1Q"
      },
      "execution_count": null,
      "outputs": []
    },
    {
      "cell_type": "markdown",
      "source": [
        "7. Write the reason due to which following errors are raised:\n",
        "\n",
        "*   EOFError - An EOFError in Python stands for \"End of File Error.\" It is raised when a built-in function like input() or pickle.load() tries to read beyond the end of a file. This error usually occurs when the input source (file, stream, etc.) does not contain enough data to satisfy the read operation.\n",
        "\n",
        "*   FloatingPointError - In Python, a FloatingPointError is an exception that can be raised when an arithmetic operation involving floating-point numbers encounters an exceptional condition. These exceptional conditions typically arise in numeric computations due to the limitations of floating-point representation.\n",
        "\n",
        "*   IndexError - In Python, an IndexError is an exception that occurs when you try to access an element from a sequence (such as a list, tuple, or string) using an index that is out of range or invalid. The index should be an integer value that corresponds to a valid position within the sequence.\n",
        "\n",
        "*   MemoryError - A \"MemoryError\" in Python indicates that your program has run out of available memory. This usually occurs when your Python script tries to allocate more memory than the system can provide. When this happens, Python raises a MemoryError to let you know that it can't fulfill the memory request.\n",
        "\n",
        "*   OverflowError - An \"OverflowError\" in Python occurs when a numerical operation exceeds the maximum or minimum representable value for a numeric data type. This typically happens with integer or floating-point operations. Python raises this exception to indicate that the result of a computation is too large or too small to be stored in the given data type.\n",
        "\n",
        "*   TabError - A \"TabError\" in Python is raised when there is an issue with the usage of tabs and spaces for indentation in your Python code. Python relies on consistent indentation to define block structures, such as loops, conditionals, functions, and classes. Mixing tabs and spaces or using them incorrectly can lead to a TabError.\n",
        "\n",
        "*   ValueError - In Python, a \"ValueError\" is a common exception that occurs when a function receives an argument of the correct data type but with an inappropriate value. It indicates that the input value provided to a function or operation is not valid or falls outside the acceptable range.\n",
        "\n",
        "\n",
        "\n",
        "\n",
        "\n",
        "\n",
        "\n",
        "\n",
        "\n",
        "\n",
        "\n",
        "\n"
      ],
      "metadata": {
        "id": "SwXmbCHxEp2h"
      }
    },
    {
      "cell_type": "markdown",
      "source": [
        "8. Write code for the following given scenario and add try-exception block to it.\n",
        "\n",
        "* Program to divide two numbers"
      ],
      "metadata": {
        "id": "8jL9ucGuHosz"
      }
    },
    {
      "cell_type": "code",
      "source": [
        "def divide_numbers(a, b):\n",
        "    try:\n",
        "        result = a / b\n",
        "        return result\n",
        "    except ZeroDivisionError:\n",
        "        print(\"Error: Division by zero is not allowed.\")\n",
        "        return None\n",
        "\n",
        "if __name__ == \"__main__\":\n",
        "    print(\"Enter two numbers to divide:\")\n",
        "    try:\n",
        "        num1 = float(input(\"Enter the first number: \"))\n",
        "        num2 = float(input(\"Enter the second number: \"))\n",
        "        division_result = divide_numbers(num1, num2)\n",
        "        if division_result is not None:\n",
        "            print(\"Result of division:\", division_result)\n",
        "    except ValueError:\n",
        "        print(\"Error: Please enter valid numeric values.\")\n"
      ],
      "metadata": {
        "colab": {
          "base_uri": "https://localhost:8080/"
        },
        "id": "dF0AArQlIKus",
        "outputId": "4abbc2dc-86a8-4a50-b3ff-4d9e5beeeca1"
      },
      "execution_count": null,
      "outputs": [
        {
          "output_type": "stream",
          "name": "stdout",
          "text": [
            "Enter two numbers to divide:\n",
            "Enter the first number: 5\n",
            "Enter the second number: 0\n",
            "Error: Division by zero is not allowed.\n"
          ]
        }
      ]
    },
    {
      "cell_type": "markdown",
      "source": [
        "* Program to convert a string to an integer"
      ],
      "metadata": {
        "id": "pL_tNxwTIlDq"
      }
    },
    {
      "cell_type": "code",
      "source": [
        "def string_to_integer(s):\n",
        "    try:\n",
        "        integer_value = int(s)\n",
        "        return integer_value\n",
        "    except ValueError:\n",
        "        print(\"Error: Invalid input. Please enter a valid integer.\")\n",
        "        return None\n",
        "\n",
        "# Test the function\n",
        "if __name__ == \"__main__\":\n",
        "    input_string = input(\"Enter a string to convert to an integer: \")\n",
        "\n",
        "    converted_integer = string_to_integer(input_string)\n",
        "\n",
        "    if converted_integer is not None:\n",
        "        print(\"Converted integer:\", converted_integer)\n"
      ],
      "metadata": {
        "id": "1_psqZlaI4z_"
      },
      "execution_count": null,
      "outputs": []
    },
    {
      "cell_type": "markdown",
      "source": [
        "* Program to access an element in a list"
      ],
      "metadata": {
        "id": "6d4EyOSBJeX6"
      }
    },
    {
      "cell_type": "code",
      "source": [
        "def access_element_in_list(input_list, index):\n",
        "    try:\n",
        "        element = input_list[index]\n",
        "        return element\n",
        "    except IndexError:\n",
        "        print(f\"IndexError: Index {index} is out of range for the given list.\")\n",
        "        return None\n",
        "    except TypeError:\n",
        "        print(\"TypeError: The index provided is not an integer.\")\n",
        "        return None\n",
        "\n",
        "# Example usage:\n",
        "sample_list = [10, 20, 30, 40, 50]\n",
        "\n",
        "# Scenario 1: Valid index\n",
        "index_to_access = 2\n",
        "result = access_element_in_list(sample_list, index_to_access)\n",
        "if result is not None:\n",
        "    print(f\"The element at index {index_to_access} is: {result}\")\n",
        "\n",
        "# Scenario 2: Invalid index (out of range)\n",
        "index_to_access = 10\n",
        "result = access_element_in_list(sample_list, index_to_access)\n",
        "if result is not None:\n",
        "    print(f\"The element at index {index_to_access} is: {result}\")\n",
        "\n",
        "# Scenario 3: Invalid index (not an integer)\n",
        "index_to_access = \"hello\"\n",
        "result = access_element_in_list(sample_list, index_to_access)\n",
        "if result is not None:\n",
        "    print(f\"The element at index {index_to_access} is: {result}\")\n"
      ],
      "metadata": {
        "colab": {
          "base_uri": "https://localhost:8080/"
        },
        "id": "2keC7A6GJhQC",
        "outputId": "1461d608-01e0-4c62-8016-36c3532896a6"
      },
      "execution_count": null,
      "outputs": [
        {
          "output_type": "stream",
          "name": "stdout",
          "text": [
            "The element at index 2 is: 30\n",
            "IndexError: Index 10 is out of range for the given list.\n",
            "TypeError: The index provided is not an integer.\n"
          ]
        }
      ]
    },
    {
      "cell_type": "markdown",
      "source": [
        "* Program to handle a specific exception"
      ],
      "metadata": {
        "id": "yZORfzP0J_tQ"
      }
    },
    {
      "cell_type": "code",
      "source": [
        "def divide_numbers():\n",
        "    try:\n",
        "        numerator = int(input(\"Enter the numerator: \"))\n",
        "        denominator = int(input(\"Enter the denominator: \"))\n",
        "        result = numerator / denominator\n",
        "        print(\"Result: \", result)\n",
        "    except ZeroDivisionError:\n",
        "        print(\"Error: Cannot divide by zero.\")\n",
        "    except ValueError:\n",
        "        print(\"Error: Please enter valid integer numbers.\")\n",
        "    except Exception as e:\n",
        "        print(\"An unexpected error occurred:\", e)\n",
        "\n",
        "if __name__ == \"__main__\":\n",
        "    divide_numbers()\n"
      ],
      "metadata": {
        "id": "OmEi6l0RKILE"
      },
      "execution_count": null,
      "outputs": []
    },
    {
      "cell_type": "markdown",
      "source": [
        "* Program to handle any exception"
      ],
      "metadata": {
        "id": "1j2nUTWpKkb4"
      }
    },
    {
      "cell_type": "code",
      "source": [
        "def read_file_contents(file_path):\n",
        "    try:\n",
        "        with open(file_path, 'r') as file:\n",
        "            contents = file.read()\n",
        "            print(\"File Contents:\")\n",
        "            print(contents)\n",
        "    except Exception as e:\n",
        "        print(\"An error occurred while reading the file:\")\n",
        "        print(str(e))\n",
        "\n",
        "if __name__ == \"__main__\":\n",
        "    file_path = input(\"Enter the file path: \")\n",
        "    read_file_contents(file_path)\n"
      ],
      "metadata": {
        "colab": {
          "base_uri": "https://localhost:8080/"
        },
        "id": "0atl_fWiK7Tp",
        "outputId": "1ea65024-66ab-4f65-da36-7b00ce2788e6"
      },
      "execution_count": null,
      "outputs": [
        {
          "output_type": "stream",
          "name": "stdout",
          "text": [
            "Enter the file path: e\n",
            "An error occurred while reading the file:\n",
            "[Errno 2] No such file or directory: 'e'\n"
          ]
        }
      ]
    }
  ]
}