{
 "cells": [
  {
   "cell_type": "markdown",
   "id": "3759fc21-a33b-4c7a-868c-d38ef0483fce",
   "metadata": {},
   "source": [
    "1. \tDifference between built in function and a user defined function:\n",
    "       In Python, the built in function are defined as whose functionality is predefined in Python interpreter itself.\n"
   ]
  },
  {
   "cell_type": "raw",
   "id": "9cba28a3-dbcf-4646-89a1-697acc253959",
   "metadata": {},
   "source": [
    "Example :  d = list(('dt26','ws26','ca'))\n",
    "Here the “list” is a builtin function\n"
   ]
  },
  {
   "cell_type": "markdown",
   "id": "c7d43a4d-25b0-4888-ba28-99a2292b7129",
   "metadata": {},
   "source": [
    "Whereas the user defined functions are the functions that we define ourselves to do a specific task.\n"
   ]
  },
  {
   "cell_type": "raw",
   "id": "1872286c-ad16-4bc6-ad77-b991d70ec00e",
   "metadata": {},
   "source": [
    "Example : def evenOdd(n):\n",
    "  if (n%2 == 0):\n",
    "    print(\"even\")\n",
    "  else:\n",
    "    print(\"odd\")\n",
    "  evenOdd(3)\n",
    "  evenOdd(4)\n",
    " \n",
    "Here “evenOdd” is a user defined function.\n"
   ]
  },
  {
   "cell_type": "markdown",
   "id": "d223a02c-98b3-41bc-8cc7-2dd7c6c5faf1",
   "metadata": {},
   "source": [
    "2. \tHow can you pass arguments to a function in Python. Difference between positional arguments and keyword arguments.\n",
    " \n",
    " \tArguments are the information passed into a function, these arguments are specified after the name of the function, inside the parenthesis.\n",
    " \n",
    "       \tPositional arguments are when we pass the arguments in order, here the order of passing these arguments is significant, because the function will use the arguments in the order that they received.\n",
    "     \t  Keyword arguments are when we pass the arguments to a function using a name of argument followed by a equal sign and value of argument. These arguments don’t need specific order because it will use the names of the arguments to determine the values and parameters.   \t"
   ]
  },
  {
   "cell_type": "markdown",
   "id": "f5d8f60a-e7d4-4767-93f0-4625bbf003bb",
   "metadata": {},
   "source": [
    "3. \tPurpose of return statement. Can a function have multiple return statements :\n",
    " \tA return statement is used to end the execution of the function call and it gives the value of expression(result) following the return keyword.\n",
    " \tYes, In Python The number of return statement allowed is not limited so it can have multiple return statements.\n"
   ]
  },
  {
   "cell_type": "code",
   "execution_count": 6,
   "id": "0b8f9bf2-2498-4be2-a67c-08addb1a9188",
   "metadata": {},
   "outputs": [],
   "source": [
    "def person(name, age):\n",
    "    return (name, age)\n",
    "    print(person(\"henry\",5))\n"
   ]
  },
  {
   "cell_type": "markdown",
   "id": "dde71ae9-f9f3-4456-91f1-4eae4c6ba94c",
   "metadata": {},
   "source": [
    "4. \tLambda Functions and its difference with normal function:\n",
    "     Lambda functions are mostly reffered as anonymous functions, they are more or less similar to user defined function but without a name. Lambda functions are efficient whenever to create a simple and single expression functions.\n",
    "     The main difference between normal and lambda functions are, the lambda function only evaluates and returns only one expression, also it doesn’t need parameters surrounded by parenthesis\n"
   ]
  },
  {
   "cell_type": "raw",
   "id": "48fcb023-3807-4c98-967a-a86ee64e0bbe",
   "metadata": {},
   "source": [
    "\t Example :  lambda_cube = lambda y: y*y*y\n",
    "         \tprint(\"the cube is\", lambda_cube(4))"
   ]
  },
  {
   "cell_type": "markdown",
   "id": "ec3af8f6-415a-4447-a254-1858b9551591",
   "metadata": {},
   "source": [
    "5.     Scope - Local scope and Global scope :\n",
    "\tThe variables that are defined inside a function body have a local scope, whereas the variables that are defined outside the function is known as global scope.\n"
   ]
  },
  {
   "cell_type": "markdown",
   "id": "aa89faf9-d8f4-44e5-bb2b-87d73be94998",
   "metadata": {},
   "source": [
    "6.     How can you use the return statement in a python function to return multiple values :\n",
    "       The return statement in a python function can be used in multiple ways they are –\n",
    "·   \tUsing Object\n",
    "·   \tUsing Tuple\n",
    "·   \tUsing List\n",
    "·   \tUsing Dictionary\n"
   ]
  },
  {
   "cell_type": "markdown",
   "id": "861f4423-dbc5-477c-9d6f-628c93fcfd61",
   "metadata": {},
   "source": [
    "7.     Diff. between pass by value and pass by reference regd. function arguments .\n",
    "    \tPass by reference means that you have to pass the function to a variable which refers to that the variable already exists in memory.\n",
    "    \tPass by value is that you have to pass a copy of variables in a function as a parameter.\n"
   ]
  },
  {
   "cell_type": "markdown",
   "id": "1d9c6a3e-7375-4c74-ac3d-4a2a299bdfed",
   "metadata": {},
   "source": [
    "8.     A) Logarithmic function:\n"
   ]
  },
  {
   "cell_type": "raw",
   "id": "7ddb9b35-fb7b-48d9-97cd-a0f0e77ee31a",
   "metadata": {},
   "source": [
    "import math\n",
    "  print(math.log(15))\n"
   ]
  },
  {
   "cell_type": "markdown",
   "id": "bf3ef4a3-3397-4c01-bffd-f10b5930de0b",
   "metadata": {},
   "source": [
    "B) Exponential function:"
   ]
  },
  {
   "cell_type": "raw",
   "id": "b17d4a29-b376-4b39-aae5-c30cc52936b2",
   "metadata": {},
   "source": [
    "import math\n",
    "  \tprint(math.exp(3))"
   ]
  },
  {
   "cell_type": "markdown",
   "id": "75e6c575-23db-46e9-b74d-5860aef689c9",
   "metadata": {},
   "source": [
    "C)Power function with base two :\n",
    "       Syntax – pow(x,y)\n",
    "        where x is number base\n",
    "               \t  y is value to power\n"
   ]
  },
  {
   "cell_type": "raw",
   "id": "52df0d86-8cd2-47fe-8a5f-f9f56fd05ec7",
   "metadata": {},
   "source": [
    " import math\n",
    "   \tprint(math.pow(2,3))"
   ]
  },
  {
   "cell_type": "markdown",
   "id": "da32d2d0-d642-486f-bf21-cc5b76b42e1d",
   "metadata": {},
   "source": [
    "D)Square root :"
   ]
  },
  {
   "cell_type": "raw",
   "id": "f9df6d0c-ad77-4aa9-951f-884aeaf496e1",
   "metadata": {},
   "source": [
    "   \timport math\n",
    "   \tprint(math.sqrt(5))"
   ]
  },
  {
   "cell_type": "markdown",
   "id": "dd54e1c8-dcc1-41e4-9646-c85b6e6c8c9f",
   "metadata": {},
   "source": [
    "9.     Create a function that takes full name as argument and returns first name and second name :"
   ]
  },
  {
   "cell_type": "raw",
   "id": "c10bef32-90cd-4acf-bf99-867e0d60d0ae",
   "metadata": {},
   "source": [
    "name = \"Gone Vain\"\n",
    "\tprint (name.split())\n"
   ]
  },
  {
   "cell_type": "markdown",
   "id": "9889d70c-c594-4d96-a734-cd66bc49a374",
   "metadata": {},
   "source": [
    "['Gone', 'Vain']"
   ]
  },
  {
   "cell_type": "code",
   "execution_count": null,
   "id": "aa8e4acb-c949-4432-9345-3e1654b47c59",
   "metadata": {},
   "outputs": [],
   "source": []
  }
 ],
 "metadata": {
  "kernelspec": {
   "display_name": "Python 3 (ipykernel)",
   "language": "python",
   "name": "python3"
  },
  "language_info": {
   "codemirror_mode": {
    "name": "ipython",
    "version": 3
   },
   "file_extension": ".py",
   "mimetype": "text/x-python",
   "name": "python",
   "nbconvert_exporter": "python",
   "pygments_lexer": "ipython3",
   "version": "3.10.6"
  }
 },
 "nbformat": 4,
 "nbformat_minor": 5
}
